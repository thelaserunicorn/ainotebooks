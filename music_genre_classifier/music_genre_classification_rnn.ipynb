{
 "cells": [
  {
   "cell_type": "markdown",
   "metadata": {},
   "source": [
    "## Introduction\n",
    "\n",
    "training a custom music genre classification system with the GTZAN dataset. The model takes as an input the spectogram of music frames and analyzes the image using a Convolutional Neural Network (CNN) or a Recurrent Neural Network (RNN). The output of the system is a vector of predicted genres for the song."
   ]
  },
  {
   "cell_type": "markdown",
   "metadata": {},
   "source": [
    " ## Data Dictionary\n",
    "    \n",
    "        \"blues\" = 1,\n",
    "        \"classical\" = 2,\n",
    "        \"country\" = 3,\n",
    "        \"disco\" = 4,\n",
    "        \"hiphop\" = 5,\n",
    "        \"jazz\"  = 6,\n",
    "        \"metal\" = 7,\n",
    "        \"pop\" = 8,\n",
    "        \"rock\" = 9"
   ]
  },
  {
   "cell_type": "markdown",
   "metadata": {},
   "source": [
    "## Loading and splitting the data "
   ]
  },
  {
   "cell_type": "code",
   "execution_count": 2,
   "metadata": {},
   "outputs": [],
   "source": [
    "import numpy as np\n",
    "import json\n",
    "from sklearn.model_selection import train_test_split\n",
    "import tensorflow as tf\n",
    "from tensorflow import keras\n",
    "from tensorflow.keras import layers\n",
    "import matplotlib.pyplot as plt\n",
    "%matplotlib inline\n",
    "DATASET_PATH = \"data.json\""
   ]
  },
  {
   "cell_type": "code",
   "execution_count": 4,
   "metadata": {},
   "outputs": [],
   "source": [
    "def prepare_datasets(test_size, validation_size):\n",
    "    #load data\n",
    "    X, y = load_data(DATASET_PATH)\n",
    "    # train/test split & train/validation split\n",
    "    X_train, X_test, y_train, y_test = train_test_split(X, y, test_size = test_size)\n",
    "    X_train, X_validation, y_train, y_validation = train_test_split(X_train, y_train, test_size=validation_size)\n",
    "    \n",
    "    # for a CNN , Tensorflow expects a 3D array for each sample? --> (130 time bins and 13 mfccs)\n",
    "\n",
    "    \n",
    "    return X_train, X_validation, X_test, y_train, y_validation, y_test"
   ]
  },
  {
   "cell_type": "code",
   "execution_count": 5,
   "metadata": {},
   "outputs": [
    {
     "name": "stdout",
     "output_type": "stream",
     "text": [
      "Data succesfully loaded!\n"
     ]
    }
   ],
   "source": [
    "\n",
    "def load_data(dataset_path):\n",
    "    with open(dataset_path, \"r\") as file:\n",
    "        data = json.load(file)\n",
    "    X = np.array(data[\"mfcc\"])\n",
    "    y = np.array(data[\"labels\"])\n",
    "    print(\"Data succesfully loaded!\")\n",
    "\n",
    "    return  X, y\n",
    "    \n",
    "if __name__ == \"__main__\":\n",
    "    \n",
    "    X_train, X_validation, X_test, y_train, y_validation, y_test = prepare_datasets(0.25, 0.2)\n",
    "    \n",
    "    "
   ]
  },
  {
   "cell_type": "markdown",
   "metadata": {},
   "source": [
    "## Building the network architecture with keras"
   ]
  },
  {
   "cell_type": "code",
   "execution_count": 6,
   "metadata": {},
   "outputs": [],
   "source": [
    "input_shape = (X_train.shape[1], X_train.shape[2])"
   ]
  },
  {
   "cell_type": "code",
   "execution_count": 7,
   "metadata": {},
   "outputs": [],
   "source": [
    "def build_model(input_shape):\n",
    "    #create RNN-LSTM model\n",
    "    model = keras.Sequential()\n",
    "    #1st layer\n",
    "    model.add(layers.LSTM(128, input_shape=input_shape, return_sequences=True))\n",
    "    model.add(layers.LSTM(128))\n",
    "    #dense layer\n",
    "    keras.layers.BatchNormalization(epsilon=0.001)\n",
    "    model.add(layers.Dense(128, activation='relu'))\n",
    "    model.add(layers.Dropout(0.4))\n",
    "    keras.layers.BatchNormalization(epsilon=0.001)\n",
    "    model.add(layers.Dense(64, activation='relu'))\n",
    "    model.add(layers.Dropout(0.4))\n",
    "    keras.layers.BatchNormalization(epsilon=0.001)\n",
    "\n",
    "    # output\n",
    "    model.add(layers.Dense(10, activation='softmax'))\n",
    "    \n",
    "    return model\n",
    "    "
   ]
  },
  {
   "cell_type": "code",
   "execution_count": 8,
   "metadata": {},
   "outputs": [],
   "source": [
    "keras.backend.clear_session()\n",
    "model = build_model(input_shape)"
   ]
  },
  {
   "cell_type": "code",
   "execution_count": 9,
   "metadata": {},
   "outputs": [
    {
     "name": "stdout",
     "output_type": "stream",
     "text": [
      "Model: \"sequential\"\n",
      "_________________________________________________________________\n",
      "Layer (type)                 Output Shape              Param #   \n",
      "=================================================================\n",
      "lstm (LSTM)                  (None, 130, 128)          72704     \n",
      "_________________________________________________________________\n",
      "lstm_1 (LSTM)                (None, 128)               131584    \n",
      "_________________________________________________________________\n",
      "dense (Dense)                (None, 128)               16512     \n",
      "_________________________________________________________________\n",
      "dropout (Dropout)            (None, 128)               0         \n",
      "_________________________________________________________________\n",
      "dense_1 (Dense)              (None, 64)                8256      \n",
      "_________________________________________________________________\n",
      "dropout_1 (Dropout)          (None, 64)                0         \n",
      "_________________________________________________________________\n",
      "dense_2 (Dense)              (None, 10)                650       \n",
      "=================================================================\n",
      "Total params: 229,706\n",
      "Trainable params: 229,706\n",
      "Non-trainable params: 0\n",
      "_________________________________________________________________\n"
     ]
    }
   ],
   "source": [
    "model.summary()"
   ]
  },
  {
   "cell_type": "markdown",
   "metadata": {},
   "source": [
    "## Compile and train the network"
   ]
  },
  {
   "cell_type": "code",
   "execution_count": 72,
   "metadata": {},
   "outputs": [],
   "source": [
    "optimiser = keras.optimizers.Adam(learning_rate=0.001)\n",
    "model.compile(optimizer=optimiser, loss=\"sparse_categorical_crossentropy\", metrics=[\"accuracy\"])\n"
   ]
  },
  {
   "cell_type": "code",
   "execution_count": 73,
   "metadata": {},
   "outputs": [
    {
     "name": "stdout",
     "output_type": "stream",
     "text": [
      "Train on 592 samples, validate on 149 samples\n",
      "Epoch 1/50\n",
      "592/592 [==============================] - 6s 10ms/sample - loss: 2.1009 - accuracy: 0.2601 - val_loss: 1.6753 - val_accuracy: 0.4899\n",
      "Epoch 2/50\n",
      "592/592 [==============================] - 2s 3ms/sample - loss: 1.6087 - accuracy: 0.4291 - val_loss: 1.1248 - val_accuracy: 0.6376\n",
      "Epoch 3/50\n",
      "592/592 [==============================] - 2s 3ms/sample - loss: 1.1316 - accuracy: 0.6064 - val_loss: 0.7928 - val_accuracy: 0.7651\n",
      "Epoch 4/50\n",
      "592/592 [==============================] - 2s 3ms/sample - loss: 0.9233 - accuracy: 0.7044 - val_loss: 0.7330 - val_accuracy: 0.7248\n",
      "Epoch 5/50\n",
      "592/592 [==============================] - 2s 3ms/sample - loss: 0.8205 - accuracy: 0.7247 - val_loss: 0.4996 - val_accuracy: 0.8255\n",
      "Epoch 6/50\n",
      "592/592 [==============================] - 2s 3ms/sample - loss: 0.7118 - accuracy: 0.7669 - val_loss: 0.4805 - val_accuracy: 0.8121\n",
      "Epoch 7/50\n",
      "592/592 [==============================] - 2s 3ms/sample - loss: 0.5266 - accuracy: 0.8311 - val_loss: 0.5066 - val_accuracy: 0.8188\n",
      "Epoch 8/50\n",
      "592/592 [==============================] - 2s 3ms/sample - loss: 0.4510 - accuracy: 0.8429 - val_loss: 0.4451 - val_accuracy: 0.8322\n",
      "Epoch 9/50\n",
      "592/592 [==============================] - 2s 3ms/sample - loss: 0.5394 - accuracy: 0.8074 - val_loss: 0.7559 - val_accuracy: 0.7987\n",
      "Epoch 10/50\n",
      "592/592 [==============================] - 2s 3ms/sample - loss: 0.5393 - accuracy: 0.8209 - val_loss: 0.4544 - val_accuracy: 0.8591\n",
      "Epoch 11/50\n",
      "592/592 [==============================] - 2s 3ms/sample - loss: 0.3839 - accuracy: 0.8682 - val_loss: 0.4071 - val_accuracy: 0.8926\n",
      "Epoch 12/50\n",
      "592/592 [==============================] - 2s 3ms/sample - loss: 0.4272 - accuracy: 0.8581 - val_loss: 0.4126 - val_accuracy: 0.8591\n",
      "Epoch 13/50\n",
      "592/592 [==============================] - 2s 3ms/sample - loss: 0.2801 - accuracy: 0.9071 - val_loss: 0.3473 - val_accuracy: 0.8993\n",
      "Epoch 14/50\n",
      "592/592 [==============================] - 2s 3ms/sample - loss: 0.2611 - accuracy: 0.9037 - val_loss: 0.5074 - val_accuracy: 0.8591\n",
      "Epoch 15/50\n",
      "592/592 [==============================] - 2s 3ms/sample - loss: 0.2806 - accuracy: 0.8970 - val_loss: 0.3894 - val_accuracy: 0.8859\n",
      "Epoch 16/50\n",
      "592/592 [==============================] - 2s 3ms/sample - loss: 0.3018 - accuracy: 0.8936 - val_loss: 0.6778 - val_accuracy: 0.8658\n",
      "Epoch 17/50\n",
      "592/592 [==============================] - 2s 3ms/sample - loss: 0.4229 - accuracy: 0.8547 - val_loss: 0.4059 - val_accuracy: 0.8523\n",
      "Epoch 18/50\n",
      "592/592 [==============================] - 2s 3ms/sample - loss: 0.3683 - accuracy: 0.8682 - val_loss: 0.3917 - val_accuracy: 0.8926\n",
      "Epoch 19/50\n",
      "592/592 [==============================] - 2s 3ms/sample - loss: 0.2407 - accuracy: 0.9257 - val_loss: 0.3791 - val_accuracy: 0.8792\n",
      "Epoch 20/50\n",
      "592/592 [==============================] - 2s 3ms/sample - loss: 0.2456 - accuracy: 0.9392 - val_loss: 0.4314 - val_accuracy: 0.8792\n",
      "Epoch 21/50\n",
      "592/592 [==============================] - 2s 3ms/sample - loss: 0.2061 - accuracy: 0.9392 - val_loss: 0.2956 - val_accuracy: 0.8993\n",
      "Epoch 22/50\n",
      "592/592 [==============================] - 2s 3ms/sample - loss: 0.1360 - accuracy: 0.9645 - val_loss: 0.3975 - val_accuracy: 0.8993\n",
      "Epoch 23/50\n",
      "592/592 [==============================] - 2s 3ms/sample - loss: 0.1088 - accuracy: 0.9679 - val_loss: 0.3811 - val_accuracy: 0.9128\n",
      "Epoch 24/50\n",
      "592/592 [==============================] - 2s 3ms/sample - loss: 0.1099 - accuracy: 0.9713 - val_loss: 0.4125 - val_accuracy: 0.8993\n",
      "Epoch 25/50\n",
      "592/592 [==============================] - 2s 3ms/sample - loss: 0.1719 - accuracy: 0.9493 - val_loss: 0.4181 - val_accuracy: 0.8993\n",
      "Epoch 26/50\n",
      "592/592 [==============================] - 2s 3ms/sample - loss: 0.1146 - accuracy: 0.9662 - val_loss: 0.5119 - val_accuracy: 0.8658\n",
      "Epoch 27/50\n",
      "592/592 [==============================] - 2s 3ms/sample - loss: 0.1858 - accuracy: 0.9375 - val_loss: 0.4180 - val_accuracy: 0.8993\n",
      "Epoch 28/50\n",
      "592/592 [==============================] - 2s 3ms/sample - loss: 0.1165 - accuracy: 0.9628 - val_loss: 0.4859 - val_accuracy: 0.8725\n",
      "Epoch 29/50\n",
      "592/592 [==============================] - 2s 3ms/sample - loss: 0.1289 - accuracy: 0.9679 - val_loss: 0.3987 - val_accuracy: 0.9262\n",
      "Epoch 30/50\n",
      "592/592 [==============================] - 2s 3ms/sample - loss: 0.0958 - accuracy: 0.9696 - val_loss: 0.4457 - val_accuracy: 0.8591\n",
      "Epoch 31/50\n",
      "592/592 [==============================] - 2s 3ms/sample - loss: 0.0647 - accuracy: 0.9797 - val_loss: 0.3690 - val_accuracy: 0.9262\n",
      "Epoch 32/50\n",
      "592/592 [==============================] - 2s 3ms/sample - loss: 0.1027 - accuracy: 0.9696 - val_loss: 0.7603 - val_accuracy: 0.8389\n",
      "Epoch 33/50\n",
      "592/592 [==============================] - 2s 3ms/sample - loss: 0.1725 - accuracy: 0.9561 - val_loss: 0.4419 - val_accuracy: 0.8859\n",
      "Epoch 34/50\n",
      "592/592 [==============================] - 2s 3ms/sample - loss: 0.2110 - accuracy: 0.9240 - val_loss: 0.7626 - val_accuracy: 0.8389\n",
      "Epoch 35/50\n",
      "592/592 [==============================] - 2s 3ms/sample - loss: 0.1887 - accuracy: 0.9561 - val_loss: 0.4115 - val_accuracy: 0.8859\n",
      "Epoch 36/50\n",
      "592/592 [==============================] - 2s 3ms/sample - loss: 0.1133 - accuracy: 0.9662 - val_loss: 0.4078 - val_accuracy: 0.8725\n",
      "Epoch 37/50\n",
      "592/592 [==============================] - 2s 3ms/sample - loss: 0.0921 - accuracy: 0.9713 - val_loss: 0.5914 - val_accuracy: 0.8658\n",
      "Epoch 38/50\n",
      "592/592 [==============================] - 2s 3ms/sample - loss: 0.0974 - accuracy: 0.9713 - val_loss: 0.3167 - val_accuracy: 0.9262\n",
      "Epoch 39/50\n",
      "592/592 [==============================] - 2s 3ms/sample - loss: 0.0796 - accuracy: 0.9797 - val_loss: 0.4338 - val_accuracy: 0.9060\n",
      "Epoch 40/50\n",
      "592/592 [==============================] - 2s 3ms/sample - loss: 0.0453 - accuracy: 0.9899 - val_loss: 0.4394 - val_accuracy: 0.8993\n",
      "Epoch 41/50\n",
      "592/592 [==============================] - 2s 3ms/sample - loss: 0.0512 - accuracy: 0.9865 - val_loss: 0.3369 - val_accuracy: 0.9262\n"
     ]
    }
   ],
   "source": [
    "es_callback = keras.callbacks.EarlyStopping(monitor='val_loss', patience=20)\n",
    "history = model.fit(X_train, y_train, validation_data=(X_validation, y_validation), batch_size=32, epochs=50, callbacks=[es_callback])"
   ]
  },
  {
   "cell_type": "code",
   "execution_count": 74,
   "metadata": {},
   "outputs": [
    {
     "name": "stdout",
     "output_type": "stream",
     "text": [
      "248/248 [==============================] - 0s 1ms/sample - loss: 0.4841 - accuracy: 0.8871\n",
      "Accuracy on test set is: 0.8870967626571655\n"
     ]
    }
   ],
   "source": [
    "test_error, test_accuracy = model.evaluate(X_test, y_test, verbose=1)\n",
    "print(f\"Accuracy on test set is: {test_accuracy}\")"
   ]
  },
  {
   "cell_type": "code",
   "execution_count": 75,
   "metadata": {},
   "outputs": [],
   "source": [
    "def predict(model, X, y):\n",
    "    X = X[np.newaxis, ...]\n",
    "    # prediction = [[0.1, 0.2, ...]]\n",
    "    prediction = model.predict(X)\n",
    "    #extract index with max value\n",
    "    predicted_index = np.argmax(prediction, axis=1) # [i] index that is predicted\n",
    "    print(f\"Expected index: {y}, predicted index: {predicted_index}\")"
   ]
  },
  {
   "cell_type": "code",
   "execution_count": 76,
   "metadata": {},
   "outputs": [
    {
     "name": "stdout",
     "output_type": "stream",
     "text": [
      "Expected index: 7, predicted index: [7]\n",
      "Expected index: 4, predicted index: [4]\n",
      "Expected index: 7, predicted index: [7]\n",
      "Expected index: 1, predicted index: [9]\n",
      "Expected index: 1, predicted index: [1]\n",
      "Expected index: 3, predicted index: [3]\n",
      "Expected index: 3, predicted index: [8]\n",
      "Expected index: 9, predicted index: [1]\n",
      "Expected index: 3, predicted index: [3]\n",
      "Expected index: 5, predicted index: [5]\n",
      "Expected index: 4, predicted index: [4]\n"
     ]
    }
   ],
   "source": [
    "for i in range(0, 110, 10):\n",
    "    X = X_test[i]\n",
    "    y = y_test[i]\n",
    "    predict(model, X, y)"
   ]
  },
  {
   "cell_type": "code",
   "execution_count": 10,
   "metadata": {},
   "outputs": [
    {
     "data": {
      "image/png": "[encoded data removed]",
      "text/plain": [
       "<IPython.core.display.Image object>"
      ]
     },
     "execution_count": 10,
     "metadata": {},
     "output_type": "execute_result"
    }
   ],
   "source": [
    "tf.keras.utils.plot_model(\n",
    "    model, to_file='model.png', show_shapes=False, show_layer_names=True,\n",
    "    rankdir='TB', expand_nested=False, dpi=96\n",
    ")"
   ]
  },
  {
   "cell_type": "code",
   "execution_count": null,
   "metadata": {},
   "outputs": [],
   "source": []
  }
 ],
 "metadata": {
  "kernelspec": {
   "display_name": "Python [conda env:tensorflow] *",
   "language": "python",
   "name": "conda-env-tensorflow-py"
  },
  "language_info": {
   "codemirror_mode": {
    "name": "ipython",
    "version": 3
   },
   "file_extension": ".py",
   "mimetype": "text/x-python",
   "name": "python",
   "nbconvert_exporter": "python",
   "pygments_lexer": "ipython3",
   "version": "3.7.9"
  }
 },
 "nbformat": 4,
 "nbformat_minor": 4
}
