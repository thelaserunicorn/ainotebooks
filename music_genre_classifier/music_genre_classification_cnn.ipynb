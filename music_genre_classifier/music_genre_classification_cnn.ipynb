{
 "cells": [
  {
   "cell_type": "markdown",
   "metadata": {},
   "source": [
    "## Introduction\n",
    "\n",
    "training a custom music genre classification system with the GTZAN dataset. The model takes as an input the spectogram of music frames and analyzes the image using a Convolutional Neural Network (CNN) or a Recurrent Neural Network (RNN). The output of the system is a vector of predicted genres for the song."
   ]
  },
  {
   "cell_type": "markdown",
   "metadata": {},
   "source": [
    " ## Data Dictionary\n",
    "    \n",
    "        \"blues\" = 1,\n",
    "        \"classical\" = 2,\n",
    "        \"country\" = 3,\n",
    "        \"disco\" = 4,\n",
    "        \"hiphop\" = 5,\n",
    "        \"jazz\"  = 6,\n",
    "        \"metal\" = 7,\n",
    "        \"pop\" = 8,\n",
    "        \"rock\" = 9"
   ]
  },
  {
   "cell_type": "markdown",
   "metadata": {},
   "source": [
    "## Loading and splitting the data "
   ]
  },
  {
   "cell_type": "code",
   "execution_count": 1,
   "metadata": {},
   "outputs": [],
   "source": [
    "import numpy as np\n",
    "import json\n",
    "from sklearn.model_selection import train_test_split\n",
    "import tensorflow as tf\n",
    "from tensorflow import keras\n",
    "from tensorflow.keras import layers\n",
    "import matplotlib.pyplot as plt\n",
    "%matplotlib inline\n",
    "DATASET_PATH = \"data.json\""
   ]
  },
  {
   "cell_type": "code",
   "execution_count": 2,
   "metadata": {},
   "outputs": [],
   "source": [
    "def prepare_datasets(test_size, validation_size):\n",
    "    #load data\n",
    "    X, y = load_data(DATASET_PATH)\n",
    "    # train/test split & train/validation split\n",
    "    X_train, X_test, y_train, y_test = train_test_split(X, y, test_size = test_size)\n",
    "    X_train, X_validation, y_train, y_validation = train_test_split(X_train, y_train, test_size=validation_size)\n",
    "    \n",
    "    # for a CNN , Tensorflow expects a 3D array for each sample? --> (130 time bins and 13 mfccs)\n",
    "    X_train = X_train[..., np.newaxis]\n",
    "    X_validation = X_validation[..., np.newaxis]\n",
    "    X_test = X_test[..., np.newaxis]\n",
    "    \n",
    "    return X_train, X_validation, X_test, y_train, y_validation, y_test"
   ]
  },
  {
   "cell_type": "code",
   "execution_count": 3,
   "metadata": {},
   "outputs": [
    {
     "name": "stdout",
     "output_type": "stream",
     "text": [
      "Data succesfully loaded!\n"
     ]
    }
   ],
   "source": [
    "\n",
    "def load_data(dataset_path):\n",
    "    with open(dataset_path, \"r\") as file:\n",
    "        data = json.load(file)\n",
    "    X = np.array(data[\"mfcc\"])\n",
    "    y = np.array(data[\"labels\"])\n",
    "    print(\"Data succesfully loaded!\")\n",
    "\n",
    "    return  X, y\n",
    "    \n",
    "if __name__ == \"__main__\":\n",
    "    \n",
    "    X_train, X_validation, X_test, y_train, y_validation, y_test = prepare_datasets(0.25, 0.2)\n",
    "    \n",
    "    "
   ]
  },
  {
   "cell_type": "markdown",
   "metadata": {},
   "source": [
    "## Building the network architecture with keras"
   ]
  },
  {
   "cell_type": "code",
   "execution_count": 4,
   "metadata": {},
   "outputs": [],
   "source": [
    "input_shape = (X_train.shape[1], X_train.shape[2], X_train.shape[3])"
   ]
  },
  {
   "cell_type": "code",
   "execution_count": 5,
   "metadata": {},
   "outputs": [],
   "source": [
    "def build_model(input_shape):\n",
    "    #create model\n",
    "    model = keras.Sequential()\n",
    "    #1st conv layer\n",
    "    model.add(layers.Conv2D(32, (3, 3), activation='relu', input_shape=input_shape))\n",
    "    model.add(layers.MaxPool2D((3, 3), strides=(2, 2), padding='same'))\n",
    "    model.add(layers.BatchNormalization())\n",
    "    #2nd conv layer\n",
    "    model.add(layers.Conv2D(32, (2, 2), activation='relu', input_shape=input_shape))\n",
    "    model.add(layers.MaxPool2D((2, 2), strides=(2, 2), padding='same'))\n",
    "    model.add(layers.BatchNormalization())\n",
    "    #3rd conv layer\n",
    "    model.add(layers.Conv2D(32, (2, 2), activation='relu', input_shape=input_shape))\n",
    "    model.add(layers.MaxPool2D((2, 2), strides=(2, 2), padding='same'))\n",
    "    model.add(layers.BatchNormalization())\n",
    "    # flatten and feed into the dense layer\n",
    "    model.add(layers.Flatten())\n",
    "    model.add(layers.Dense(128, activation='relu'))\n",
    "    model.add(layers.Dropout(0.4))\n",
    "    \n",
    "    \n",
    "    model.add(layers.Dense(64, activation='relu'))\n",
    "    model.add(layers.Dropout(0.4))\n",
    "    # output\n",
    "    model.add(layers.Dense(10, activation='softmax'))\n",
    "    \n",
    "    return model\n",
    "    "
   ]
  },
  {
   "cell_type": "code",
   "execution_count": 6,
   "metadata": {},
   "outputs": [],
   "source": [
    "keras.backend.clear_session()\n",
    "model = build_model(input_shape)"
   ]
  },
  {
   "cell_type": "code",
   "execution_count": 8,
   "metadata": {},
   "outputs": [
    {
     "name": "stdout",
     "output_type": "stream",
     "text": [
      "Model: \"sequential\"\n",
      "_________________________________________________________________\n",
      "Layer (type)                 Output Shape              Param #   \n",
      "=================================================================\n",
      "conv2d (Conv2D)              (None, 128, 11, 32)       320       \n",
      "_________________________________________________________________\n",
      "max_pooling2d (MaxPooling2D) (None, 64, 6, 32)         0         \n",
      "_________________________________________________________________\n",
      "batch_normalization (BatchNo (None, 64, 6, 32)         128       \n",
      "_________________________________________________________________\n",
      "conv2d_1 (Conv2D)            (None, 63, 5, 32)         4128      \n",
      "_________________________________________________________________\n",
      "max_pooling2d_1 (MaxPooling2 (None, 32, 3, 32)         0         \n",
      "_________________________________________________________________\n",
      "batch_normalization_1 (Batch (None, 32, 3, 32)         128       \n",
      "_________________________________________________________________\n",
      "conv2d_2 (Conv2D)            (None, 31, 2, 32)         4128      \n",
      "_________________________________________________________________\n",
      "max_pooling2d_2 (MaxPooling2 (None, 16, 1, 32)         0         \n",
      "_________________________________________________________________\n",
      "batch_normalization_2 (Batch (None, 16, 1, 32)         128       \n",
      "_________________________________________________________________\n",
      "flatten (Flatten)            (None, 512)               0         \n",
      "_________________________________________________________________\n",
      "dense (Dense)                (None, 128)               65664     \n",
      "_________________________________________________________________\n",
      "dropout (Dropout)            (None, 128)               0         \n",
      "_________________________________________________________________\n",
      "dense_1 (Dense)              (None, 64)                8256      \n",
      "_________________________________________________________________\n",
      "dropout_1 (Dropout)          (None, 64)                0         \n",
      "_________________________________________________________________\n",
      "dense_2 (Dense)              (None, 10)                650       \n",
      "=================================================================\n",
      "Total params: 83,530\n",
      "Trainable params: 83,338\n",
      "Non-trainable params: 192\n",
      "_________________________________________________________________\n"
     ]
    }
   ],
   "source": [
    "model.summary()\n"
   ]
  },
  {
   "cell_type": "markdown",
   "metadata": {},
   "source": [
    "## Compile and train the network"
   ]
  },
  {
   "cell_type": "code",
   "execution_count": 48,
   "metadata": {},
   "outputs": [],
   "source": [
    "optimiser = keras.optimizers.Adam(learning_rate=0.001)\n",
    "model.compile(optimizer=optimiser, loss=\"sparse_categorical_crossentropy\", metrics=[\"accuracy\"])\n"
   ]
  },
  {
   "cell_type": "code",
   "execution_count": 49,
   "metadata": {},
   "outputs": [
    {
     "name": "stdout",
     "output_type": "stream",
     "text": [
      "Train on 592 samples, validate on 149 samples\n",
      "Epoch 1/50\n",
      "592/592 [==============================] - 1s 2ms/sample - loss: 2.4890 - accuracy: 0.1892 - val_loss: 2.3320 - val_accuracy: 0.1477\n",
      "Epoch 2/50\n",
      "592/592 [==============================] - 0s 461us/sample - loss: 1.7792 - accuracy: 0.3851 - val_loss: 2.2386 - val_accuracy: 0.2148\n",
      "Epoch 3/50\n",
      "592/592 [==============================] - 0s 453us/sample - loss: 1.4023 - accuracy: 0.4899 - val_loss: 2.1322 - val_accuracy: 0.2685\n",
      "Epoch 4/50\n",
      "592/592 [==============================] - 0s 454us/sample - loss: 1.1056 - accuracy: 0.5828 - val_loss: 1.5645 - val_accuracy: 0.4228\n",
      "Epoch 5/50\n",
      "592/592 [==============================] - 0s 490us/sample - loss: 1.0228 - accuracy: 0.6486 - val_loss: 1.3243 - val_accuracy: 0.4899\n",
      "Epoch 6/50\n",
      "592/592 [==============================] - 0s 470us/sample - loss: 0.8984 - accuracy: 0.7027 - val_loss: 1.1175 - val_accuracy: 0.5436\n",
      "Epoch 7/50\n",
      "592/592 [==============================] - 0s 490us/sample - loss: 0.7340 - accuracy: 0.7432 - val_loss: 1.0403 - val_accuracy: 0.6107\n",
      "Epoch 8/50\n",
      "592/592 [==============================] - 0s 454us/sample - loss: 0.6960 - accuracy: 0.7652 - val_loss: 0.8423 - val_accuracy: 0.6980\n",
      "Epoch 9/50\n",
      "592/592 [==============================] - 0s 451us/sample - loss: 0.6423 - accuracy: 0.7804 - val_loss: 0.7012 - val_accuracy: 0.7383\n",
      "Epoch 10/50\n",
      "592/592 [==============================] - 0s 465us/sample - loss: 0.5451 - accuracy: 0.8176 - val_loss: 0.6390 - val_accuracy: 0.7852\n",
      "Epoch 11/50\n",
      "592/592 [==============================] - 0s 471us/sample - loss: 0.4948 - accuracy: 0.8378 - val_loss: 0.9465 - val_accuracy: 0.6711\n",
      "Epoch 12/50\n",
      "592/592 [==============================] - 0s 463us/sample - loss: 0.4925 - accuracy: 0.8226 - val_loss: 0.4792 - val_accuracy: 0.8456\n",
      "Epoch 13/50\n",
      "592/592 [==============================] - 0s 463us/sample - loss: 0.5047 - accuracy: 0.8193 - val_loss: 0.5304 - val_accuracy: 0.8322\n",
      "Epoch 14/50\n",
      "592/592 [==============================] - 0s 451us/sample - loss: 0.4205 - accuracy: 0.8632 - val_loss: 0.4517 - val_accuracy: 0.8456\n",
      "Epoch 15/50\n",
      "592/592 [==============================] - 0s 470us/sample - loss: 0.3486 - accuracy: 0.8716 - val_loss: 0.3777 - val_accuracy: 0.8523\n",
      "Epoch 16/50\n",
      "592/592 [==============================] - 0s 475us/sample - loss: 0.3136 - accuracy: 0.8986 - val_loss: 0.5750 - val_accuracy: 0.7852\n",
      "Epoch 17/50\n",
      "592/592 [==============================] - 0s 446us/sample - loss: 0.2663 - accuracy: 0.9139 - val_loss: 0.4353 - val_accuracy: 0.8188\n",
      "Epoch 18/50\n",
      "592/592 [==============================] - 0s 456us/sample - loss: 0.2822 - accuracy: 0.9054 - val_loss: 0.3839 - val_accuracy: 0.8591\n",
      "Epoch 19/50\n",
      "592/592 [==============================] - 0s 451us/sample - loss: 0.2594 - accuracy: 0.9139 - val_loss: 0.3780 - val_accuracy: 0.8725\n",
      "Epoch 20/50\n",
      "592/592 [==============================] - 0s 495us/sample - loss: 0.1938 - accuracy: 0.9257 - val_loss: 0.4404 - val_accuracy: 0.8456\n",
      "Epoch 21/50\n",
      "592/592 [==============================] - 0s 448us/sample - loss: 0.1827 - accuracy: 0.9392 - val_loss: 0.3346 - val_accuracy: 0.8993\n",
      "Epoch 22/50\n",
      "592/592 [==============================] - 0s 456us/sample - loss: 0.2192 - accuracy: 0.9324 - val_loss: 0.4513 - val_accuracy: 0.8322\n",
      "Epoch 23/50\n",
      "592/592 [==============================] - 0s 478us/sample - loss: 0.1762 - accuracy: 0.9392 - val_loss: 0.4490 - val_accuracy: 0.8523\n",
      "Epoch 24/50\n",
      "592/592 [==============================] - 0s 449us/sample - loss: 0.1585 - accuracy: 0.9476 - val_loss: 0.4863 - val_accuracy: 0.8389\n",
      "Epoch 25/50\n",
      "592/592 [==============================] - 0s 481us/sample - loss: 0.1546 - accuracy: 0.9476 - val_loss: 0.4727 - val_accuracy: 0.8322\n",
      "Epoch 26/50\n",
      "592/592 [==============================] - 0s 466us/sample - loss: 0.1811 - accuracy: 0.9341 - val_loss: 0.7166 - val_accuracy: 0.8121\n",
      "Epoch 27/50\n",
      "592/592 [==============================] - 0s 459us/sample - loss: 0.1793 - accuracy: 0.9426 - val_loss: 0.4393 - val_accuracy: 0.8792\n",
      "Epoch 28/50\n",
      "592/592 [==============================] - 0s 465us/sample - loss: 0.1679 - accuracy: 0.9476 - val_loss: 0.5298 - val_accuracy: 0.8591\n",
      "Epoch 29/50\n",
      "592/592 [==============================] - 0s 483us/sample - loss: 0.1322 - accuracy: 0.9527 - val_loss: 0.3648 - val_accuracy: 0.8993\n",
      "Epoch 30/50\n",
      "592/592 [==============================] - 0s 468us/sample - loss: 0.1238 - accuracy: 0.9696 - val_loss: 0.5101 - val_accuracy: 0.8389\n",
      "Epoch 31/50\n",
      "592/592 [==============================] - 0s 483us/sample - loss: 0.1447 - accuracy: 0.9645 - val_loss: 0.5606 - val_accuracy: 0.8389\n",
      "Epoch 32/50\n",
      "592/592 [==============================] - 0s 465us/sample - loss: 0.0970 - accuracy: 0.9747 - val_loss: 0.5408 - val_accuracy: 0.8658\n",
      "Epoch 33/50\n",
      "592/592 [==============================] - 0s 490us/sample - loss: 0.0757 - accuracy: 0.9696 - val_loss: 0.5386 - val_accuracy: 0.8389\n",
      "Epoch 34/50\n",
      "592/592 [==============================] - 0s 475us/sample - loss: 0.1047 - accuracy: 0.9730 - val_loss: 0.4033 - val_accuracy: 0.8926\n",
      "Epoch 35/50\n",
      "592/592 [==============================] - 0s 471us/sample - loss: 0.0860 - accuracy: 0.9764 - val_loss: 0.6678 - val_accuracy: 0.8389\n",
      "Epoch 36/50\n",
      "592/592 [==============================] - 0s 453us/sample - loss: 0.0679 - accuracy: 0.9780 - val_loss: 0.5308 - val_accuracy: 0.8993\n",
      "Epoch 37/50\n",
      "592/592 [==============================] - 0s 454us/sample - loss: 0.1068 - accuracy: 0.9510 - val_loss: 0.3977 - val_accuracy: 0.8926\n",
      "Epoch 38/50\n",
      "592/592 [==============================] - 0s 480us/sample - loss: 0.0890 - accuracy: 0.9713 - val_loss: 0.5773 - val_accuracy: 0.8389\n",
      "Epoch 39/50\n",
      "592/592 [==============================] - 0s 453us/sample - loss: 0.0701 - accuracy: 0.9747 - val_loss: 0.5061 - val_accuracy: 0.8792\n",
      "Epoch 40/50\n",
      "592/592 [==============================] - 0s 488us/sample - loss: 0.0790 - accuracy: 0.9679 - val_loss: 0.5750 - val_accuracy: 0.8389\n",
      "Epoch 41/50\n",
      "592/592 [==============================] - 0s 473us/sample - loss: 0.1042 - accuracy: 0.9645 - val_loss: 0.6151 - val_accuracy: 0.8591\n"
     ]
    }
   ],
   "source": [
    "es_callback = keras.callbacks.EarlyStopping(monitor='val_loss', patience=20)\n",
    "history = model.fit(X_train, y_train, validation_data=(X_validation, y_validation), batch_size=32, epochs=50, callbacks=[es_callback])"
   ]
  },
  {
   "cell_type": "code",
   "execution_count": 50,
   "metadata": {},
   "outputs": [
    {
     "name": "stdout",
     "output_type": "stream",
     "text": [
      "248/248 [==============================] - 0s 339us/sample - loss: 0.5447 - accuracy: 0.8387\n",
      "Accuracy on test set is: 0.8387096524238586\n"
     ]
    }
   ],
   "source": [
    "test_error, test_accuracy = model.evaluate(X_test, y_test, verbose=1)\n",
    "print(f\"Accuracy on test set is: {test_accuracy}\")"
   ]
  },
  {
   "cell_type": "code",
   "execution_count": 51,
   "metadata": {},
   "outputs": [],
   "source": [
    "def predict(model, X, y):\n",
    "    X = X[np.newaxis, ...]\n",
    "    # prediction = [[0.1, 0.2, ...]]\n",
    "    prediction = model.predict(X)\n",
    "    #extract index with max value\n",
    "    predicted_index = np.argmax(prediction, axis=1) # [i] index that is predicted\n",
    "    print(f\"Expected index: {y}, predicted index: {predicted_index}\")"
   ]
  },
  {
   "cell_type": "code",
   "execution_count": 52,
   "metadata": {},
   "outputs": [
    {
     "name": "stdout",
     "output_type": "stream",
     "text": [
      "Expected index: 4, predicted index: [4]\n",
      "Expected index: 5, predicted index: [5]\n",
      "Expected index: 2, predicted index: [2]\n",
      "Expected index: 9, predicted index: [9]\n",
      "Expected index: 8, predicted index: [8]\n",
      "Expected index: 1, predicted index: [1]\n",
      "Expected index: 2, predicted index: [2]\n",
      "Expected index: 8, predicted index: [8]\n",
      "Expected index: 2, predicted index: [2]\n",
      "Expected index: 9, predicted index: [9]\n",
      "Expected index: 9, predicted index: [9]\n"
     ]
    }
   ],
   "source": [
    "for i in range(0, 110, 10):\n",
    "    X = X_test[i]\n",
    "    y = y_test[i]\n",
    "    predict(model, X, y)"
   ]
  },
  {
   "cell_type": "code",
   "execution_count": 9,
   "metadata": {},
   "outputs": [
    {
     "data": {
      "image/png": "[encoded data removed]",
      "text/plain": [
       "<IPython.core.display.Image object>"
      ]
     },
     "execution_count": 9,
     "metadata": {},
     "output_type": "execute_result"
    }
   ],
   "source": [
    "tf.keras.utils.plot_model(\n",
    "    model, to_file='model.png', show_shapes=False, show_layer_names=True,\n",
    "    rankdir='TB', expand_nested=False, dpi=96\n",
    ")"
   ]
  },
  {
   "cell_type": "code",
   "execution_count": null,
   "metadata": {},
   "outputs": [],
   "source": []
  }
 ],
 "metadata": {
  "kernelspec": {
   "display_name": "Python [conda env:tensorflow] *",
   "language": "python",
   "name": "conda-env-tensorflow-py"
  },
  "language_info": {
   "codemirror_mode": {
    "name": "ipython",
    "version": 3
   },
   "file_extension": ".py",
   "mimetype": "text/x-python",
   "name": "python",
   "nbconvert_exporter": "python",
   "pygments_lexer": "ipython3",
   "version": "3.7.9"
  }
 },
 "nbformat": 4,
 "nbformat_minor": 4
}
